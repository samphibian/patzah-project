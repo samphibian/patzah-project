{
 "cells": [
  {
   "cell_type": "code",
   "execution_count": 31,
   "metadata": {
    "collapsed": true,
    "deletable": true,
    "editable": true
   },
   "outputs": [],
   "source": [
    "from Adafruit_PWM_Servo_Driver import PWM\n",
    "import atexit\n",
    "import grove_i2c_temp_hum_mini\n",
    "import grovepi\n",
    "from grove_rgb_lcd import *\n",
    "import time\n",
    "\n",
    "pwm = PWM(0x40)\n",
    "pwm.setPWMFreq(60)                        # Set frequency to 60 Hz\n",
    "\n",
    "servoMin = 150\n",
    "\n",
    "class Robot():\n",
    "    def __init__(self, configFileName = \"DoNotNameYourConfigFileThisOrYouWillNeedToManuallyEnterThePorts\"):\n",
    "        self.dct = {}\n",
    "        self.dct[\"analogInput\"] = {}\n",
    "        self.dct[\"analogOutput\"] = {}\n",
    "        self.dct[\"digitalInput\"] = {}\n",
    "        self.dct[\"digitalOutput\"] = {}\n",
    "        self.dct[\"servos\"] = {}\n",
    "        \n",
    "        if (configFileName == \"DoNotNameYourConfigFileThisOrYouWillNeedToManuallyEnterThePorts\"):\n",
    "            anaIn = []\n",
    "            anaOut = []\n",
    "            digIn = []\n",
    "            digOut = []\n",
    "            servs = []\n",
    "            ai = int(input(\"How many analog sensors do you have? \"))\n",
    "            for i in range(ai):\n",
    "                a = input(\"Please enter a sensor name \")\n",
    "                print(\"In what A# port is \", a, \"? (Please only type the #)\")\n",
    "                self.dct[\"analogInput\"][a] = int(input ())\n",
    "                grovepi.pinMode(self.dct[\"analogInput\"][a], \"INPUT\")\n",
    "            ao = int(input(\"How many analog outputs do you have? \"))\n",
    "            for i in range(ao):\n",
    "                a = input(\"Please enter a sensor name \")\n",
    "                print(\"In what A# port is \", a, \"? (Please only type the #)\")\n",
    "                self.dct[\"analogOutput\"][a] = int(input ())\n",
    "                grovepi.pinMode(self.dct[\"analogOutput\"][a], \"OUTPUT\")\n",
    "            di = int(input(\"How many digital sensors do you have? \"))\n",
    "            for i in range(di):\n",
    "                d = input(\"Please enter a sensor name \")\n",
    "                print(\"In what D# port is \", d, \"? (Please only type the #)\")\n",
    "                self.dct[\"digitalInput\"][d] = int(input ())\n",
    "                grovepi.pinMode(self.dct[\"digitalInput\"][d], \"INPUT\")\n",
    "            do = int(input(\"How many digital outputs do you have? \"))\n",
    "            for i in range(do):\n",
    "                d = input(\"Please enter a sensor name \")\n",
    "                print(\"In what D# port is \", d, \"? (Please only type the #)\")\n",
    "                self.dct[\"digitalOutput\"][d] = int(input ())\n",
    "                grovepi.pinMode(self.dct[\"digitalOutput\"][d], \"OUTPUT\")  \n",
    "            sr = int(input(\"How many servos do you have? \"))\n",
    "            for i in range(sr):\n",
    "                s = input(\"Please enter a sensor name \")\n",
    "                print(\"In what channel is \", s, \"? (Please only type the #)\")\n",
    "                self.dct[\"servos\"][s] = int(input ())  \n",
    "        else:        \n",
    "            f = open(configFileName, 'r')\n",
    "            for line in f:\n",
    "                vals = line.split(\", \")\n",
    "                count = 0\n",
    "                name = vals[0]\n",
    "                if vals[0]+str(count) in self.dct[vals[1]]:\n",
    "                    while(self.dct[vals[1]][vals[0]+str(count)]):\n",
    "                        count += 1\n",
    "                self.dct[vals[1]][name + str(int(vals[2]))] = int(vals[2])  \n",
    "        print(self.dct)\n",
    "        \n",
    "    def end(self):\n",
    "        snsrs = self.dct\n",
    "        for x in snsrs[\"digitalOutput\"]:\n",
    "            self.writeOutput(x, 0)\n",
    "        for x in snsrs[\"analogOutput\"]:\n",
    "            self.writeOutput(x, 0)\n",
    "        for s in snsrs[\"servos\"]:\n",
    "            self.moveServo(s, servoMin)\n",
    "        print(\"Goodbye\")\n",
    "        \n",
    "    def readInput(self, snsr):\n",
    "        ai = self.dct[\"analogInput\"]\n",
    "        di = self.dct[\"digitalInput\"]\n",
    "        if snsr in ai:\n",
    "            return grovepi.analogRead(ai[snsr])\n",
    "        elif snsr in di:\n",
    "            return grovepi.digitalRead(di[snsr]) \n",
    "        else:\n",
    "            print (\"Sensor \", snsr, \" not found; would you like to add it? (y, n)\")\n",
    "            r = input()\n",
    "            if r == 'y':\n",
    "                self.addPort(snsr, \"INPUT\")\n",
    "                self.readInput(snsr)\n",
    "                    \n",
    "    def writeOutput(self, snsr, val):\n",
    "        aout = self.dct[\"analogOutput\"]\n",
    "        dout = self.dct[\"digitalOutput\"]\n",
    "        if snsr in aout:\n",
    "            return grovepi.analogWrite(aout[snsr], val)\n",
    "        elif snsr in dout:\n",
    "            return grovepi.digitalWrite(dout[snsr], val) \n",
    "        else:\n",
    "            print (\"Sensor \", snsr, \" not found; would you like to add it? (y, n)\")\n",
    "            r = input()\n",
    "            if r == 'y':\n",
    "                self.addPort(snsr, \"OUTPUT\")\n",
    "                self.writeOutput(snsr, val)\n",
    "                \n",
    "    def moveServo(self, servo, val):\n",
    "        s = self.dct[\"servos\"]\n",
    "        if servo in s:\n",
    "            pwm.setPWM(s[servo], 0, val)    \n",
    "        else:\n",
    "            print (\"Servo \", servo, \" not found; would you like to add it? (y, n)\")\n",
    "            r = input()\n",
    "            if r == 'y':\n",
    "                c = (\"Please enter the channel of the servo\")\n",
    "                s[servo] = c\n",
    "                    \n",
    "    def addPort(self, snsr, io):\n",
    "        port = input(\"Please input the port, eg a0 or d5 \")\n",
    "        if port[0] == 'a' and 0 <= int(port[1]) and 2 >= int(port[1]):\n",
    "            if io == \"OUTPUT\": aio = self.dct[\"analogOutput\"] \n",
    "            else: aio = self.dct[\"analogInput\"]\n",
    "            aio[snsr] = int(port[1])\n",
    "            grovepi.pinMode(aio[snsr], io)\n",
    "        elif port[0] == 'd' and 0 <= int(port[1]) and 8 >= int(port[1]):\n",
    "            if io == \"OUTPUT\": dio = self.dct[\"digitalOutput\"] \n",
    "            else: dio = self.dct[\"digitalInput\"]\n",
    "            dio[snsr] = int(port[1])\n",
    "            grovepi.pinMode(dio[snsr], io)\n",
    "        else:\n",
    "            print (\"Error reading input\")\n",
    "                    \n",
    "    def convertLightToResistance(self, sensor_value):\n",
    "        return (float)(1023 - int(sensor_value)) * 10 / int(sensor_value)\n",
    "    \n",
    "    def readEncoder(self):\n",
    "        atexit.register(grovepi.encoder_dis)\n",
    "        grovepi.encoder_en()\n",
    "        return grovepi.encoderRead()\n",
    "    \n",
    "    def readTemp(self):\n",
    "        t= grove_i2c_temp_hum_mini.th02()\n",
    "        return t.getTemperature()\n",
    "    \n",
    "    def readHumidity(self):\n",
    "        t= grove_i2c_temp_hum_mini.th02()\n",
    "        return t.getHumidity()\n",
    "    \n",
    "    def display(self, color, txt):\n",
    "        setText(txt)\n",
    "        setRGB(color[0], color[1], color[2])"
   ]
  },
  {
   "cell_type": "code",
   "execution_count": 29,
   "metadata": {
    "collapsed": false,
    "deletable": true,
    "editable": true
   },
   "outputs": [
    {
     "name": "stdout",
     "output_type": "stream",
     "text": [
      "How many analog sensors do you have? 0\n",
      "How many analog outputs do you have? 0\n",
      "How many digital sensors do you have? 0\n",
      "How many digital outputs do you have? 0\n",
      "How many servos do you have? 0\n"
     ]
    }
   ],
   "source": [
    "r = Robot()"
   ]
  },
  {
   "cell_type": "code",
   "execution_count": 32,
   "metadata": {
    "collapsed": false,
    "deletable": true,
    "editable": true
   },
   "outputs": [],
   "source": [
    "r2 = Robot(\"configFile\")"
   ]
  },
  {
   "cell_type": "code",
   "execution_count": 33,
   "metadata": {
    "collapsed": false,
    "deletable": true,
    "editable": true
   },
   "outputs": [
    {
     "data": {
      "text/plain": [
       "{'analogInput': {'moistureSensor0': 0, 'uvSensor1': 1, 'uvSensor2': 2},\n",
       " 'analogOutput': {},\n",
       " 'digitalInput': {},\n",
       " 'digitalOutput': {'buzzer2': 2, 'led2': 2, 'led3': 3, 'led4': 4, 'led7': 7},\n",
       " 'servos': {}}"
      ]
     },
     "execution_count": 33,
     "metadata": {},
     "output_type": "execute_result"
    }
   ],
   "source": [
    "r2.dct"
   ]
  },
  {
   "cell_type": "code",
   "execution_count": 36,
   "metadata": {
    "collapsed": false,
    "deletable": true,
    "editable": true
   },
   "outputs": [],
   "source": [
    "led = \"led\"\n",
    "buzz = \"buzzer\"\n",
    "light = \"lightSensor\"\n",
    "relay = \"relay\"\n",
    "servo0 = \"servo0\"\n",
    "servo3 = \"servo3\"\n",
    "\n",
    "usens1 = 'uvSensor1'\n",
    "usens2 = 'uvSensor2'\n",
    "led2 = 'led2'\n",
    "led3 = 'led3'\n",
    "led4 = 'led4'\n",
    "mSens0 = \"moistureSensor0\""
   ]
  },
  {
   "cell_type": "code",
   "execution_count": 40,
   "metadata": {
    "collapsed": false,
    "deletable": true,
    "editable": true
   },
   "outputs": [
    {
     "data": {
      "text/plain": [
       "369"
      ]
     },
     "execution_count": 40,
     "metadata": {},
     "output_type": "execute_result"
    }
   ],
   "source": [
    "r2.readInput(mSens0)"
   ]
  },
  {
   "cell_type": "code",
   "execution_count": 60,
   "metadata": {
    "collapsed": false,
    "deletable": true,
    "editable": true
   },
   "outputs": [
    {
     "data": {
      "text/plain": [
       "1"
      ]
     },
     "execution_count": 60,
     "metadata": {},
     "output_type": "execute_result"
    }
   ],
   "source": [
    "r2.writeOutput(\"led7\", 0)"
   ]
  },
  {
   "cell_type": "code",
   "execution_count": 48,
   "metadata": {
    "collapsed": false,
    "deletable": true,
    "editable": true
   },
   "outputs": [
    {
     "data": {
      "text/plain": [
       "1"
      ]
     },
     "execution_count": 48,
     "metadata": {},
     "output_type": "execute_result"
    }
   ],
   "source": [
    "r2.writeOutput(\"led2\", 0)"
   ]
  },
  {
   "cell_type": "code",
   "execution_count": 66,
   "metadata": {
    "collapsed": false,
    "deletable": true,
    "editable": true
   },
   "outputs": [
    {
     "data": {
      "text/plain": [
       "1"
      ]
     },
     "execution_count": 66,
     "metadata": {},
     "output_type": "execute_result"
    }
   ],
   "source": [
    "r2.writeOutput(\"led3\", 0)"
   ]
  },
  {
   "cell_type": "code",
   "execution_count": 50,
   "metadata": {
    "collapsed": false,
    "deletable": true,
    "editable": true
   },
   "outputs": [
    {
     "data": {
      "text/plain": [
       "1"
      ]
     },
     "execution_count": 50,
     "metadata": {},
     "output_type": "execute_result"
    }
   ],
   "source": [
    "r2.writeOutput(\"led4\", 0)"
   ]
  },
  {
   "cell_type": "code",
   "execution_count": 5,
   "metadata": {
    "collapsed": false,
    "deletable": true,
    "editable": true
   },
   "outputs": [
    {
     "data": {
      "text/plain": [
       "{'analogInput': {'lightSensor': 0},\n",
       " 'analogOutput': {},\n",
       " 'digitalInput': {},\n",
       " 'digitalOutput': {'led': 7},\n",
       " 'servos': {'servo0': 0, 'servo3': 3}}"
      ]
     },
     "execution_count": 5,
     "metadata": {},
     "output_type": "execute_result"
    }
   ],
   "source": [
    "r.dct"
   ]
  },
  {
   "cell_type": "code",
   "execution_count": 28,
   "metadata": {
    "collapsed": false,
    "deletable": true,
    "editable": true
   },
   "outputs": [
    {
     "data": {
      "text/plain": [
       "1"
      ]
     },
     "execution_count": 28,
     "metadata": {},
     "output_type": "execute_result"
    }
   ],
   "source": [
    "r.writeOutput(led, 1)"
   ]
  },
  {
   "cell_type": "code",
   "execution_count": 29,
   "metadata": {
    "collapsed": false,
    "deletable": true,
    "editable": true
   },
   "outputs": [
    {
     "data": {
      "text/plain": [
       "1"
      ]
     },
     "execution_count": 29,
     "metadata": {},
     "output_type": "execute_result"
    }
   ],
   "source": [
    "r.writeOutput(led, 0)"
   ]
  },
  {
   "cell_type": "code",
   "execution_count": null,
   "metadata": {
    "collapsed": true,
    "deletable": true,
    "editable": true
   },
   "outputs": [],
   "source": [
    "r.writeOutput(relay, 1)"
   ]
  },
  {
   "cell_type": "code",
   "execution_count": null,
   "metadata": {
    "collapsed": true,
    "deletable": true,
    "editable": true
   },
   "outputs": [],
   "source": [
    "r.writeOutput(relay, 0)"
   ]
  },
  {
   "cell_type": "code",
   "execution_count": 6,
   "metadata": {
    "collapsed": false,
    "deletable": true,
    "editable": true
   },
   "outputs": [
    {
     "name": "stdout",
     "output_type": "stream",
     "text": [
      "Light:  768 \tResistance:  3.3203125\n"
     ]
    }
   ],
   "source": [
    "l = r.readInput(light)\n",
    "print(\"Light: \", l, \"\\tResistance: \", r.convertLightToResistance(l))"
   ]
  },
  {
   "cell_type": "code",
   "execution_count": 7,
   "metadata": {
    "collapsed": false,
    "deletable": true,
    "editable": true
   },
   "outputs": [
    {
     "data": {
      "text/plain": [
       "21.90625"
      ]
     },
     "execution_count": 7,
     "metadata": {},
     "output_type": "execute_result"
    }
   ],
   "source": [
    "r.readTemp()"
   ]
  },
  {
   "cell_type": "code",
   "execution_count": 8,
   "metadata": {
    "collapsed": false,
    "deletable": true,
    "editable": true
   },
   "outputs": [
    {
     "data": {
      "text/plain": [
       "14.5625"
      ]
     },
     "execution_count": 8,
     "metadata": {},
     "output_type": "execute_result"
    }
   ],
   "source": [
    "r.readHumidity()"
   ]
  },
  {
   "cell_type": "code",
   "execution_count": 7,
   "metadata": {
    "collapsed": false,
    "deletable": true,
    "editable": true
   },
   "outputs": [],
   "source": [
    "r.moveServo(servo0, 150)\n",
    "r.moveServo(servo3, 600)\n",
    "time.sleep(1)\n",
    "r.moveServo(servo0, 600)\n",
    "r.moveServo(servo3, 150)\n",
    "time.sleep(1)\n",
    "r.moveServo(servo0, 150)\n",
    "r.moveServo(servo3, 600)\n"
   ]
  },
  {
   "cell_type": "code",
   "execution_count": 8,
   "metadata": {
    "collapsed": false,
    "deletable": true,
    "editable": true
   },
   "outputs": [
    {
     "name": "stdout",
     "output_type": "stream",
     "text": [
      "Goodbye\n"
     ]
    }
   ],
   "source": [
    "r.end()"
   ]
  },
  {
   "cell_type": "code",
   "execution_count": 32,
   "metadata": {
    "collapsed": false,
    "deletable": true,
    "editable": true
   },
   "outputs": [
    {
     "name": "stdout",
     "output_type": "stream",
     "text": [
      "['buzzer', 'digitalOutput', '2']\n"
     ]
    }
   ],
   "source": []
  },
  {
   "cell_type": "code",
   "execution_count": 31,
   "metadata": {
    "collapsed": false,
    "deletable": true,
    "editable": true
   },
   "outputs": [
    {
     "data": {
      "text/plain": [
       "{'analogInput': {'lightSensor': 0},\n",
       " 'analogOutput': {},\n",
       " 'digitalInput': {},\n",
       " 'digitalOutput': {'buzzer0': '2', 'led': 7},\n",
       " 'servos': {'servo0': 0, 'servo3': 3}}"
      ]
     },
     "execution_count": 31,
     "metadata": {},
     "output_type": "execute_result"
    }
   ],
   "source": [
    "r.dct"
   ]
  },
  {
   "cell_type": "code",
   "execution_count": 40,
   "metadata": {
    "collapsed": false,
    "deletable": true,
    "editable": true
   },
   "outputs": [
    {
     "data": {
      "text/plain": [
       "{'analogInput': {},\n",
       " 'analogOutput': {},\n",
       " 'digitalInput': {},\n",
       " 'digitalOutput': {'buzzer0': '2'},\n",
       " 'servos': {}}"
      ]
     },
     "execution_count": 40,
     "metadata": {},
     "output_type": "execute_result"
    }
   ],
   "source": [
    "r2.dct"
   ]
  },
  {
   "cell_type": "code",
   "execution_count": 24,
   "metadata": {
    "collapsed": false,
    "deletable": true,
    "editable": true
   },
   "outputs": [
    {
     "name": "stdout",
     "output_type": "stream",
     "text": [
      "909 :  255\n",
      "923 :  1\n",
      "924 :  1\n",
      "925 :  1\n",
      "926 :  1\n",
      "945 :  1\n",
      "990 :  1\n",
      "991 :  1\n",
      "1023 :  65535\n",
      "65797.0\n"
     ]
    }
   ],
   "source": [
    "sum = 0.0\n",
    "for i in range (1024):\n",
    "    x = r.readInput(\"uvS1\")\n",
    "    sum += x\n",
    "    if(x != 0.0):\n",
    "        print(i, \": \", x)\n",
    "print(sum)"
   ]
  },
  {
   "cell_type": "code",
   "execution_count": 74,
   "metadata": {
    "collapsed": false,
    "deletable": true,
    "editable": true
   },
   "outputs": [
    {
     "name": "stdout",
     "output_type": "stream",
     "text": [
      "move plant to the right:  0\n",
      "water plant:  0\n",
      "water plant:  119\n",
      "water plant:  0\n",
      "water plant:  33\n",
      "water plant:  130\n",
      "water plant:  73\n",
      "water plant:  124\n",
      "water plant:  185\n",
      "water plant:  0\n",
      "water plant:  6\n",
      "water plant:  0\n",
      "water plant:  255\n",
      "water plant:  0\n"
     ]
    },
    {
     "ename": "KeyboardInterrupt",
     "evalue": "",
     "output_type": "error",
     "traceback": [
      "\u001b[0;31m---------------------------------------------------------------------------\u001b[0m",
      "\u001b[0;31mKeyboardInterrupt\u001b[0m                         Traceback (most recent call last)",
      "\u001b[0;32m<ipython-input-74-ab46a08a2eef>\u001b[0m in \u001b[0;36m<module>\u001b[0;34m()\u001b[0m\n\u001b[1;32m     43\u001b[0m             \u001b[0mplantRobot\u001b[0m\u001b[0;34m.\u001b[0m\u001b[0mwriteOutput\u001b[0m\u001b[0;34m(\u001b[0m\u001b[0mled3\u001b[0m\u001b[0;34m,\u001b[0m \u001b[0;36m0\u001b[0m\u001b[0;34m)\u001b[0m\u001b[0;34m\u001b[0m\u001b[0m\n\u001b[1;32m     44\u001b[0m \u001b[0;34m\u001b[0m\u001b[0m\n\u001b[0;32m---> 45\u001b[0;31m     \u001b[0mtime\u001b[0m\u001b[0;34m.\u001b[0m\u001b[0msleep\u001b[0m\u001b[0;34m(\u001b[0m\u001b[0;36m1\u001b[0m\u001b[0;34m)\u001b[0m\u001b[0;34m\u001b[0m\u001b[0m\n\u001b[0m\u001b[1;32m     46\u001b[0m \u001b[0;34m\u001b[0m\u001b[0m\n",
      "\u001b[0;31mKeyboardInterrupt\u001b[0m: "
     ]
    }
   ],
   "source": [
    "# plant robot\n",
    "\n",
    "usens1 = 'uvSensor1'\n",
    "usens2 = 'uvSensor2'\n",
    "led2 = 'led2'\n",
    "led3 = 'led3'\n",
    "led4 = 'led4'\n",
    "mSens0 = \"moistureSensor0\"\n",
    "\n",
    "plantRobot = Robot('configFile')\n",
    "\n",
    "oldu1 = -1\n",
    "oldu2 = -1\n",
    "oldm = -1\n",
    "moistureMin = 300\n",
    "\n",
    "while(True):\n",
    "    u1 = plantRobot.readInput(usens1)\n",
    "    u2 = plantRobot.readInput(usens2)\n",
    "    m = plantRobot.readInput(mSens0)\n",
    "\n",
    "    if(u1 != oldu1 or u2 != oldu2):\n",
    "        oldu1 = u1\n",
    "        oldu2 = u2\n",
    "        if(u1 > u2):\n",
    "            plantRobot.writeOutput(led2, 1)\n",
    "            plantRobot.writeOutput(led4, 0)\n",
    "            print(\"move plant to the right: \", u2)\n",
    "        elif(u1 < u2):\n",
    "            plantRobot.writeOutput(led2, 0)\n",
    "            plantRobot.writeOutput(led4, 1)\n",
    "            print(\"move plant to the left: \", u1)\n",
    "        else:\n",
    "            plantRobot.writeOutput(led2, 0)\n",
    "            plantRobot.writeOutput(led4, 0)\n",
    "\n",
    "    if(m != oldm):\n",
    "        oldm = m\n",
    "        if(m < moistureMin):\n",
    "            plantRobot.writeOutput(led3, 1)\n",
    "            print(\"water plant: \", m)\n",
    "        else:\n",
    "            plantRobot.writeOutput(led3, 0)\n",
    "    \n",
    "    time.sleep(1)\n",
    "    "
   ]
  },
  {
   "cell_type": "code",
   "execution_count": 32,
   "metadata": {
    "collapsed": false,
    "deletable": true,
    "editable": true
   },
   "outputs": [
    {
     "name": "stdout",
     "output_type": "stream",
     "text": [
      "{'servos': {'servo0': 0}, 'analogInput': {'lightSensor0': 0}, 'analogOutput': {}, 'digitalOutput': {'buzzer2': 2, 'led4': 4}, 'digitalInput': {'pushButton6': 6}}\n"
     ]
    }
   ],
   "source": [
    "demoR = Robot(\"demoConfigFile\")"
   ]
  },
  {
   "cell_type": "code",
   "execution_count": 3,
   "metadata": {
    "collapsed": false,
    "deletable": true,
    "editable": true
   },
   "outputs": [
    {
     "data": {
      "text/plain": [
       "{'analogInput': {'lightSensor0': 0},\n",
       " 'analogOutput': {},\n",
       " 'digitalInput': {},\n",
       " 'digitalOutput': {'buzzer2': 2, 'led4': 4},\n",
       " 'servos': {'servo0': 0}}"
      ]
     },
     "execution_count": 3,
     "metadata": {},
     "output_type": "execute_result"
    }
   ],
   "source": [
    "demoR.dct"
   ]
  },
  {
   "cell_type": "code",
   "execution_count": 4,
   "metadata": {
    "collapsed": false,
    "deletable": true,
    "editable": true
   },
   "outputs": [
    {
     "data": {
      "text/plain": [
       "1"
      ]
     },
     "execution_count": 4,
     "metadata": {},
     "output_type": "execute_result"
    }
   ],
   "source": [
    "demoR.writeOutput('led4', 1)"
   ]
  },
  {
   "cell_type": "code",
   "execution_count": 5,
   "metadata": {
    "collapsed": false,
    "deletable": true,
    "editable": true
   },
   "outputs": [
    {
     "data": {
      "text/plain": [
       "1"
      ]
     },
     "execution_count": 5,
     "metadata": {},
     "output_type": "execute_result"
    }
   ],
   "source": [
    "demoR.writeOutput('led4', 0)"
   ]
  },
  {
   "cell_type": "code",
   "execution_count": 25,
   "metadata": {
    "collapsed": false
   },
   "outputs": [
    {
     "data": {
      "text/plain": [
       "1"
      ]
     },
     "execution_count": 25,
     "metadata": {},
     "output_type": "execute_result"
    }
   ],
   "source": [
    "demoR.writeOutput('buzzer2', 1)"
   ]
  },
  {
   "cell_type": "code",
   "execution_count": 26,
   "metadata": {
    "collapsed": false
   },
   "outputs": [
    {
     "data": {
      "text/plain": [
       "1"
      ]
     },
     "execution_count": 26,
     "metadata": {},
     "output_type": "execute_result"
    }
   ],
   "source": [
    "demoR.writeOutput('buzzer2', 0)"
   ]
  },
  {
   "cell_type": "code",
   "execution_count": 8,
   "metadata": {
    "collapsed": false,
    "deletable": true,
    "editable": true
   },
   "outputs": [
    {
     "data": {
      "text/plain": [
       "714"
      ]
     },
     "execution_count": 8,
     "metadata": {},
     "output_type": "execute_result"
    }
   ],
   "source": [
    "demoR.readInput('lightSensor0')"
   ]
  },
  {
   "cell_type": "code",
   "execution_count": 22,
   "metadata": {
    "collapsed": false
   },
   "outputs": [
    {
     "data": {
      "text/plain": [
       "-20.0"
      ]
     },
     "execution_count": 22,
     "metadata": {},
     "output_type": "execute_result"
    }
   ],
   "source": [
    "demoR.readHumidity()"
   ]
  },
  {
   "cell_type": "code",
   "execution_count": 13,
   "metadata": {
    "collapsed": true,
    "deletable": true,
    "editable": true
   },
   "outputs": [],
   "source": [
    "demoR.moveServo('servo0', 0)"
   ]
  },
  {
   "cell_type": "code",
   "execution_count": 14,
   "metadata": {
    "collapsed": false,
    "deletable": true,
    "editable": true
   },
   "outputs": [
    {
     "name": "stdout",
     "output_type": "stream",
     "text": [
      "Goodbye\n"
     ]
    }
   ],
   "source": [
    "demoR.end()"
   ]
  },
  {
   "cell_type": "code",
   "execution_count": null,
   "metadata": {
    "collapsed": true,
    "deletable": true,
    "editable": true
   },
   "outputs": [],
   "source": [
    "short for now. might end up doing long. Plus, actually demoing might make it long anyways\n",
    "I am not sure you should demo\n",
    "It will be hard for everyone to see and might cause more roblems\n",
    "\n",
    "true, but I think that without a demo it doesn't sound like I did anything\n",
    "Maybe a video?\n",
    "Maybe. Would make sense but be difficult. Are you volunteering to film?\n",
    "maybe... but there is also this thing called a tripod\n",
    "\n",
    "meh\n",
    "\n",
    "Its only u and hanna who he asked"
   ]
  }
 ],
 "metadata": {
  "kernelspec": {
   "display_name": "Python 3",
   "language": "python",
   "name": "python3"
  },
  "language_info": {
   "codemirror_mode": {
    "name": "ipython",
    "version": 3
   },
   "file_extension": ".py",
   "mimetype": "text/x-python",
   "name": "python",
   "nbconvert_exporter": "python",
   "pygments_lexer": "ipython3",
   "version": "3.4.2"
  }
 },
 "nbformat": 4,
 "nbformat_minor": 2
}

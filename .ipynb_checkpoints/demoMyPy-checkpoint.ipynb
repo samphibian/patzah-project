{
 "cells": [
  {
   "cell_type": "code",
   "execution_count": null,
   "metadata": {
    "collapsed": true,
    "deletable": true,
    "editable": true
   },
   "outputs": [],
   "source": [
    "from Adafruit_PWM_Servo_Driver import PWM\n",
    "import atexit\n",
    "import grove_i2c_temp_hum_mini\n",
    "import grovepi\n",
    "from grove_rgb_lcd import *\n",
    "import time\n",
    "\n",
    "pwm = PWM(0x40)\n",
    "pwm.setPWMFreq(60)                        # Set frequency to 60 Hz\n",
    "\n",
    "servoMin = 150\n",
    "\n",
    "class Robot():\n",
    "    def __init__(self, configFileName = \"DoNotNameYourConfigFileThisOrYouWillNeedToManuallyEnterThePorts\"):\n",
    "        self.dct = {}\n",
    "        self.dct[\"analogInput\"] = {}\n",
    "        self.dct[\"analogOutput\"] = {}\n",
    "        self.dct[\"digitalInput\"] = {}\n",
    "        self.dct[\"digitalOutput\"] = {}\n",
    "        self.dct[\"servos\"] = {}\n",
    "        \n",
    "        if (configFileName == \"DoNotNameYourConfigFileThisOrYouWillNeedToManuallyEnterThePorts\"):\n",
    "            anaIn = []\n",
    "            anaOut = []\n",
    "            digIn = []\n",
    "            digOut = []\n",
    "            servs = []\n",
    "            ai = int(input(\"How many analog sensors do you have? \"))\n",
    "            for i in range(ai):\n",
    "                a = input(\"Please enter a sensor name \")\n",
    "                print(\"In what A# port is \", a, \"? (Please only type the #)\")\n",
    "                self.dct[\"analogInput\"][a] = int(input ())\n",
    "                grovepi.pinMode(self.dct[\"analogInput\"][a], \"INPUT\")\n",
    "            ao = int(input(\"How many analog outputs do you have? \"))\n",
    "            for i in range(ao):\n",
    "                a = input(\"Please enter a sensor name \")\n",
    "                print(\"In what A# port is \", a, \"? (Please only type the #)\")\n",
    "                self.dct[\"analogOutput\"][a] = int(input ())\n",
    "                grovepi.pinMode(self.dct[\"analogOutput\"][a], \"OUTPUT\")\n",
    "            di = int(input(\"How many digital sensors do you have? \"))\n",
    "            for i in range(di):\n",
    "                d = input(\"Please enter a sensor name \")\n",
    "                print(\"In what D# port is \", d, \"? (Please only type the #)\")\n",
    "                self.dct[\"digitalInput\"][d] = int(input ())\n",
    "                grovepi.pinMode(self.dct[\"digitalInput\"][d], \"INPUT\")\n",
    "            do = int(input(\"How many digital outputs do you have? \"))\n",
    "            for i in range(do):\n",
    "                d = input(\"Please enter a sensor name \")\n",
    "                print(\"In what D# port is \", d, \"? (Please only type the #)\")\n",
    "                self.dct[\"digitalOutput\"][d] = int(input ())\n",
    "                grovepi.pinMode(self.dct[\"digitalOutput\"][d], \"OUTPUT\")  \n",
    "            sr = int(input(\"How many servos do you have? \"))\n",
    "            for i in range(sr):\n",
    "                s = input(\"Please enter a sensor name \")\n",
    "                print(\"In what channel is \", s, \"? (Please only type the #)\")\n",
    "                self.dct[\"servos\"][s] = int(input ())  \n",
    "        else:        \n",
    "            f = open(configFileName, 'r')\n",
    "            for line in f:\n",
    "                vals = line.split(\", \")\n",
    "                count = 0\n",
    "                name = vals[0]\n",
    "                if vals[0]+str(count) in self.dct[vals[1]]:\n",
    "                    while(self.dct[vals[1]][vals[0]+str(count)]):\n",
    "                        count += 1\n",
    "                self.dct[vals[1]][name + str(int(vals[2]))] = int(vals[2])  \n",
    "        print(self.dct)\n",
    "        \n",
    "    def end(self):\n",
    "        snsrs = self.dct\n",
    "        for x in snsrs[\"digitalOutput\"]:\n",
    "            self.writeOutput(x, 0)\n",
    "        for x in snsrs[\"analogOutput\"]:\n",
    "            self.writeOutput(x, 0)\n",
    "        for s in snsrs[\"servos\"]:\n",
    "            self.moveServo(s, servoMin)\n",
    "        print(\"Goodbye\")\n",
    "        \n",
    "    def readInput(self, snsr):\n",
    "        ai = self.dct[\"analogInput\"]\n",
    "        di = self.dct[\"digitalInput\"]\n",
    "        if snsr in ai:\n",
    "            return grovepi.analogRead(ai[snsr])\n",
    "        elif snsr in di:\n",
    "            return grovepi.digitalRead(di[snsr]) \n",
    "        else:\n",
    "            print (\"Sensor \", snsr, \" not found; would you like to add it? (y, n)\")\n",
    "            r = input()\n",
    "            if r == 'y':\n",
    "                self.addPort(snsr, \"INPUT\")\n",
    "                self.readInput(snsr)\n",
    "                    \n",
    "    def writeOutput(self, snsr, val):\n",
    "        aout = self.dct[\"analogOutput\"]\n",
    "        dout = self.dct[\"digitalOutput\"]\n",
    "        if snsr in aout:\n",
    "            return grovepi.analogWrite(aout[snsr], val)\n",
    "        elif snsr in dout:\n",
    "            return grovepi.digitalWrite(dout[snsr], val) \n",
    "        else:\n",
    "            print (\"Sensor \", snsr, \" not found; would you like to add it? (y, n)\")\n",
    "            r = input()\n",
    "            if r == 'y':\n",
    "                self.addPort(snsr, \"OUTPUT\")\n",
    "                self.writeOutput(snsr, val)\n",
    "                \n",
    "    def moveServo(self, servo, val):\n",
    "        s = self.dct[\"servos\"]\n",
    "        if servo in s:\n",
    "            pwm.setPWM(s[servo], 0, val)    \n",
    "        else:\n",
    "            print (\"Servo \", servo, \" not found; would you like to add it? (y, n)\")\n",
    "            r = input()\n",
    "            if r == 'y':\n",
    "                c = (\"Please enter the channel of the servo\")\n",
    "                s[servo] = c\n",
    "                    \n",
    "    def addPort(self, snsr, io):\n",
    "        port = input(\"Please input the port, eg a0 or d5 \")\n",
    "        if port[0] == 'a' and 0 <= int(port[1]) and 2 >= int(port[1]):\n",
    "            if io == \"OUTPUT\": aio = self.dct[\"analogOutput\"] \n",
    "            else: aio = self.dct[\"analogInput\"]\n",
    "            aio[snsr] = int(port[1])\n",
    "            grovepi.pinMode(aio[snsr], io)\n",
    "        elif port[0] == 'd' and 0 <= int(port[1]) and 8 >= int(port[1]):\n",
    "            if io == \"OUTPUT\": dio = self.dct[\"digitalOutput\"] \n",
    "            else: dio = self.dct[\"digitalInput\"]\n",
    "            dio[snsr] = int(port[1])\n",
    "            grovepi.pinMode(dio[snsr], io)\n",
    "        else:\n",
    "            print (\"Error reading input\")\n",
    "                    \n",
    "    def convertLightToResistance(self, sensor_value):\n",
    "        return (float)(1023 - int(sensor_value)) * 10 / int(sensor_value)\n",
    "    \n",
    "    def readEncoder(self):\n",
    "        atexit.register(grovepi.encoder_dis)\n",
    "        grovepi.encoder_en()\n",
    "        return grovepi.encoderRead()\n",
    "    \n",
    "    def readTemp(self):\n",
    "        t= grove_i2c_temp_hum_mini.th02()\n",
    "        return t.getTemperature()\n",
    "    \n",
    "    def readHumidity(self):\n",
    "        t= grove_i2c_temp_hum_mini.th02()\n",
    "        return t.getHumidity()\n",
    "    \n",
    "    def display(self, color, txt):\n",
    "        setText(txt)\n",
    "        setRGB(color[0], color[1], color[2])"
   ]
  },
  {
   "cell_type": "code",
   "execution_count": null,
   "metadata": {
    "collapsed": false,
    "deletable": true,
    "editable": true
   },
   "outputs": [],
   "source": [
    "demoR = Robot(\"demoConfigFile\")"
   ]
  },
  {
   "cell_type": "code",
   "execution_count": null,
   "metadata": {
    "collapsed": false,
    "deletable": true,
    "editable": true
   },
   "outputs": [],
   "source": [
    "demoR.dct"
   ]
  },
  {
   "cell_type": "code",
   "execution_count": null,
   "metadata": {
    "collapsed": false,
    "deletable": true,
    "editable": true
   },
   "outputs": [],
   "source": [
    "demoR.writeOutput('led4', 1)"
   ]
  },
  {
   "cell_type": "code",
   "execution_count": null,
   "metadata": {
    "collapsed": false,
    "deletable": true,
    "editable": true
   },
   "outputs": [],
   "source": [
    "demoR.writeOutput('led4', 0)"
   ]
  },
  {
   "cell_type": "code",
   "execution_count": null,
   "metadata": {
    "collapsed": false,
    "deletable": true,
    "editable": true
   },
   "outputs": [],
   "source": [
    "demoR.writeOutput('buzzer2', 1)"
   ]
  },
  {
   "cell_type": "code",
   "execution_count": null,
   "metadata": {
    "collapsed": false,
    "deletable": true,
    "editable": true
   },
   "outputs": [],
   "source": [
    "demoR.writeOutput('buzzer2', 0)"
   ]
  },
  {
   "cell_type": "code",
   "execution_count": null,
   "metadata": {
    "collapsed": false,
    "deletable": true,
    "editable": true
   },
   "outputs": [],
   "source": [
    "for x in range(0,10):\n",
    "    print(demoR.readInput('lightSensor0'))\n",
    "    time.sleep(.5)"
   ]
  },
  {
   "cell_type": "code",
   "execution_count": null,
   "metadata": {
    "collapsed": false,
    "deletable": true,
    "editable": true
   },
   "outputs": [],
   "source": [
    "for x in range(0,10):\n",
    "    print(demoR.readInput('pushButton6'))\n",
    "    time.sleep(1)"
   ]
  },
  {
   "cell_type": "code",
   "execution_count": null,
   "metadata": {
    "collapsed": true,
    "deletable": true,
    "editable": true
   },
   "outputs": [],
   "source": [
    "demoR.moveServo('servo0', 150)"
   ]
  },
  {
   "cell_type": "code",
   "execution_count": null,
   "metadata": {
    "collapsed": true,
    "deletable": true,
    "editable": true
   },
   "outputs": [],
   "source": [
    "demoR.moveServo('servo0', 600)"
   ]
  },
  {
   "cell_type": "code",
   "execution_count": null,
   "metadata": {
    "collapsed": true,
    "deletable": true,
    "editable": true
   },
   "outputs": [],
   "source": [
    "demoR.moveServo('servo0', 350)"
   ]
  },
  {
   "cell_type": "code",
   "execution_count": null,
   "metadata": {
    "collapsed": false,
    "deletable": true,
    "editable": true
   },
   "outputs": [],
   "source": [
    "demoR.end()"
   ]
  },
  {
   "cell_type": "code",
   "execution_count": null,
   "metadata": {
    "collapsed": true,
    "deletable": true,
    "editable": true
   },
   "outputs": [],
   "source": []
  }
 ],
 "metadata": {
  "kernelspec": {
   "display_name": "Python 3",
   "language": "python",
   "name": "python3"
  },
  "language_info": {
   "codemirror_mode": {
    "name": "ipython",
    "version": 3
   },
   "file_extension": ".py",
   "mimetype": "text/x-python",
   "name": "python",
   "nbconvert_exporter": "python",
   "pygments_lexer": "ipython3",
   "version": "3.4.2"
  }
 },
 "nbformat": 4,
 "nbformat_minor": 2
}
